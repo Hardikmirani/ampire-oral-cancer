{
 "cells": [
  {
   "cell_type": "code",
   "execution_count": 2,
   "id": "e9a18926",
   "metadata": {},
   "outputs": [
    {
     "name": "stdout",
     "output_type": "stream",
     "text": [
      "\n",
      "image 1/1 /Users/hardikm-visiobyte/Desktop/Oral_Cancer_Ampire/dataset/test/9_jpg.rf.bf5a0b97a86c9648c5d7f0d4a1e04570.jpg: 640x640 2 cancerouss, 778.5ms\n",
      "Speed: 6.1ms preprocess, 778.5ms inference, 11.1ms postprocess per image at shape (1, 3, 640, 640)\n"
     ]
    },
    {
     "data": {
      "text/plain": [
       "'/Users/hardikm-visiobyte/Desktop/Oral_Cancer_Ampire/yolo_project/Model Development/predicted_sample.jpg'"
      ]
     },
     "execution_count": 2,
     "metadata": {},
     "output_type": "execute_result"
    }
   ],
   "source": [
    "from ultralytics import YOLO\n",
    "\n",
    "# Load the trained model\n",
    "model = YOLO('/Users/hardikm-visiobyte/Desktop/Oral_Cancer_Ampire/yolo_project/static/model_file/best.pt')\n",
    "\n",
    "# Path to a test image\n",
    "image_path = '/Users/hardikm-visiobyte/Desktop/Oral_Cancer_Ampire/dataset/test/9_jpg.rf.bf5a0b97a86c9648c5d7f0d4a1e04570.jpg'\n",
    "\n",
    "# Run inference\n",
    "results = model(image_path, conf=0.1)\n",
    "\n",
    "# Display the image with bounding boxes\n",
    "results[0].show()\n",
    "\n",
    "# Save the result image\n",
    "results[0].save(filename='/Users/hardikm-visiobyte/Desktop/Oral_Cancer_Ampire/yolo_project/Model Development/predicted_sample.jpg')"
   ]
  },
  {
   "cell_type": "code",
   "execution_count": 14,
   "id": "7939dc42",
   "metadata": {},
   "outputs": [
    {
     "name": "stdout",
     "output_type": "stream",
     "text": [
      "\n",
      "image 1/1 /Users/hardikm-visiobyte/Desktop/Oral_Cancer_Ampire/dataset/test/127_jpg.rf.b622bb98d25d0674173de5c24cdebd73.jpg: 640x640 (no detections), 739.7ms\n",
      "Speed: 2.9ms preprocess, 739.7ms inference, 0.4ms postprocess per image at shape (1, 3, 640, 640)\n"
     ]
    }
   ],
   "source": [
    "from ultralytics import YOLO\n",
    "\n",
    "# ✅ Load your trained model with custom classes only\n",
    "model = YOLO('/Users/hardikm-visiobyte/Desktop/Oral_Cancer_Ampire/yolo_project/static/model_file/best.pt')\n",
    "\n",
    "# ✅ Run prediction on a test image\n",
    "results = model('/Users/hardikm-visiobyte/Desktop/Oral_Cancer_Ampire/dataset/test/127_jpg.rf.b622bb98d25d0674173de5c24cdebd73.jpg', conf=0.1)\n",
    "\n",
    "# ✅ Loop through predictions and filter out only class 0 and 1\n",
    "for result in results:\n",
    "    boxes = result.boxes\n",
    "    for box in boxes:\n",
    "        class_id = int(box.cls)\n",
    "        conf = float(box.conf)\n",
    "        if class_id in [0, 1]:\n",
    "            print(f\"Detected class {class_id} with confidence {conf:.2f}\")\n",
    "        else:\n",
    "            print(f\"❌ Ignored class {class_id} (not in your dataset)\")\n"
   ]
  },
  {
   "cell_type": "code",
   "execution_count": null,
   "id": "207120fe",
   "metadata": {},
   "outputs": [],
   "source": []
  }
 ],
 "metadata": {
  "kernelspec": {
   "display_name": ".venv",
   "language": "python",
   "name": "python3"
  },
  "language_info": {
   "codemirror_mode": {
    "name": "ipython",
    "version": 3
   },
   "file_extension": ".py",
   "mimetype": "text/x-python",
   "name": "python",
   "nbconvert_exporter": "python",
   "pygments_lexer": "ipython3",
   "version": "3.8.0"
  }
 },
 "nbformat": 4,
 "nbformat_minor": 5
}
